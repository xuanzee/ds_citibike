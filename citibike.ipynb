{
 "cells": [
  {
   "cell_type": "code",
   "execution_count": 1,
   "id": "9919efae",
   "metadata": {},
   "outputs": [],
   "source": [
    "from pathlib import Path\n",
    "from urllib.request import urlretrieve\n",
    "from zipfile import ZipFile\n",
    "import glob\n",
    "import pandas as pd"
   ]
  },
  {
   "cell_type": "markdown",
   "id": "58a83f8e",
   "metadata": {},
   "source": [
    "### Data Acquisition"
   ]
  },
  {
   "cell_type": "code",
   "execution_count": 2,
   "id": "52beaa27",
   "metadata": {},
   "outputs": [],
   "source": [
    "#Identify pattern of the url associated with each month's data file and code accordingly.\n",
    "\n",
    "url_front = \"https://s3.amazonaws.com/tripdata/JC-\"\n",
    "url_end = \"-citibike-tripdata.csv.zip\"\n",
    "\n",
    "filename_base = Path('/Users/xuan/Documents/Python/portfolio_projects/ds_citibike')"
   ]
  },
  {
   "cell_type": "code",
   "execution_count": 3,
   "id": "34de16b9",
   "metadata": {},
   "outputs": [],
   "source": [
    "def get_year_month_files(list_of_year_month):\n",
    "    '''\n",
    "    Main function to retrieve files and store them locally.\n",
    "    '''\n",
    "    for year_month in list_of_year_month:\n",
    "        url = url_front + year_month + url_end\n",
    "        filename = year_month + '.zip'\n",
    "        filepath = filename_base / filename\n",
    "        path, headers = urlretrieve(url, filepath)"
   ]
  },
  {
   "cell_type": "code",
   "execution_count": 4,
   "id": "cdece0a3",
   "metadata": {},
   "outputs": [],
   "source": [
    "#Create a function that helps with generating the year-month list needed in the main function.\n",
    "\n",
    "def combine_year_month(year, list_of_months):\n",
    "    '''\n",
    "    Generates combined strings of year and month.\n",
    "    Parameters are a string value of 4-digit year and a list with 2-digit, string month numbers.\n",
    "    '''\n",
    "    list_str_year_month = []\n",
    "    for i in list_of_months:\n",
    "        str_year_month = year + i\n",
    "        list_str_year_month.append(str_year_month)\n",
    "    return list_str_year_month        "
   ]
  },
  {
   "cell_type": "code",
   "execution_count": 5,
   "id": "a0351076",
   "metadata": {},
   "outputs": [],
   "source": [
    "#Include the relevant months.\n",
    "\n",
    "list_of_2022_months = ['08', '09', '10', '11', '12']\n",
    "list_of_2023_months = ['01', '02', '03', '04', '05', '06', '07']"
   ]
  },
  {
   "cell_type": "code",
   "execution_count": 6,
   "id": "58fcd427",
   "metadata": {},
   "outputs": [
    {
     "name": "stdout",
     "output_type": "stream",
     "text": [
      "['202208', '202209', '202210', '202211', '202212', '202301', '202302', '202303', '202304', '202305', '202306', '202307']\n"
     ]
    }
   ],
   "source": [
    "#Call the function to get all year-month in one place.\n",
    "\n",
    "all_year_month = combine_year_month('2022', list_of_2022_months) + combine_year_month('2023', list_of_2023_months)\n",
    "print(all_year_month)"
   ]
  },
  {
   "cell_type": "code",
   "execution_count": 7,
   "id": "920c5be9",
   "metadata": {},
   "outputs": [],
   "source": [
    "#Call the main function to get all files.\n",
    "\n",
    "get_year_month_files(all_year_month)"
   ]
  },
  {
   "cell_type": "code",
   "execution_count": 8,
   "id": "707b1725",
   "metadata": {},
   "outputs": [],
   "source": [
    "#Unzip the files\n",
    "\n",
    "def unzip_files(list_of_year_month):\n",
    "    '''\n",
    "    Extract corresponding csv files for each year and month.\n",
    "    '''\n",
    "    for year_month in list_of_year_month:\n",
    "        filename = year_month + '.zip'\n",
    "        filepath = filename_base / filename\n",
    "        with ZipFile(filepath, 'r') as f:\n",
    "            list_of_names = f.namelist()\n",
    "            for name in list_of_names:\n",
    "                if name.endswith('.csv'):\n",
    "                    f.extract(name)"
   ]
  },
  {
   "cell_type": "code",
   "execution_count": 9,
   "id": "72248fd5",
   "metadata": {},
   "outputs": [],
   "source": [
    "unzip_files(all_year_month)"
   ]
  },
  {
   "cell_type": "code",
   "execution_count": 44,
   "id": "2a993860",
   "metadata": {},
   "outputs": [],
   "source": [
    "#Aggregate data files\n",
    "\n",
    "trip_files = glob.glob('JC-20*.csv')\n",
    "\n",
    "df_list = []\n",
    "\n",
    "for file in trip_files:\n",
    "    data = pd.read_csv(file)\n",
    "    df_list.append(data)\n",
    "\n",
    "trips = pd.concat(df_list)"
   ]
  },
  {
   "cell_type": "markdown",
   "id": "0e3a73bc",
   "metadata": {},
   "source": [
    "### Data Cleaning"
   ]
  },
  {
   "cell_type": "code",
   "execution_count": 51,
   "id": "a4792889",
   "metadata": {},
   "outputs": [
    {
     "data": {
      "text/html": [
       "<div>\n",
       "<style scoped>\n",
       "    .dataframe tbody tr th:only-of-type {\n",
       "        vertical-align: middle;\n",
       "    }\n",
       "\n",
       "    .dataframe tbody tr th {\n",
       "        vertical-align: top;\n",
       "    }\n",
       "\n",
       "    .dataframe thead th {\n",
       "        text-align: right;\n",
       "    }\n",
       "</style>\n",
       "<table border=\"1\" class=\"dataframe\">\n",
       "  <thead>\n",
       "    <tr style=\"text-align: right;\">\n",
       "      <th></th>\n",
       "      <th>ride_id</th>\n",
       "      <th>rideable_type</th>\n",
       "      <th>started_at</th>\n",
       "      <th>ended_at</th>\n",
       "      <th>start_station_name</th>\n",
       "      <th>start_station_id</th>\n",
       "      <th>end_station_name</th>\n",
       "      <th>end_station_id</th>\n",
       "      <th>start_lat</th>\n",
       "      <th>start_lng</th>\n",
       "      <th>end_lat</th>\n",
       "      <th>end_lng</th>\n",
       "      <th>member_casual</th>\n",
       "    </tr>\n",
       "  </thead>\n",
       "  <tbody>\n",
       "    <tr>\n",
       "      <th>0</th>\n",
       "      <td>557150C42CBD584B</td>\n",
       "      <td>classic_bike</td>\n",
       "      <td>2023-02-16 18:05:38</td>\n",
       "      <td>2023-02-16 18:13:47</td>\n",
       "      <td>Mama Johnson Field - 4 St &amp; Jackson St</td>\n",
       "      <td>HB404</td>\n",
       "      <td>South Waterfront Walkway - Sinatra Dr &amp; 1 St</td>\n",
       "      <td>HB103</td>\n",
       "      <td>40.743190</td>\n",
       "      <td>-74.040126</td>\n",
       "      <td>40.736982</td>\n",
       "      <td>-74.027781</td>\n",
       "      <td>member</td>\n",
       "    </tr>\n",
       "    <tr>\n",
       "      <th>1</th>\n",
       "      <td>9F1B2C0BCD476C66</td>\n",
       "      <td>classic_bike</td>\n",
       "      <td>2023-02-15 19:20:33</td>\n",
       "      <td>2023-02-15 19:27:06</td>\n",
       "      <td>Mama Johnson Field - 4 St &amp; Jackson St</td>\n",
       "      <td>HB404</td>\n",
       "      <td>South Waterfront Walkway - Sinatra Dr &amp; 1 St</td>\n",
       "      <td>HB103</td>\n",
       "      <td>40.743222</td>\n",
       "      <td>-74.040081</td>\n",
       "      <td>40.736982</td>\n",
       "      <td>-74.027781</td>\n",
       "      <td>member</td>\n",
       "    </tr>\n",
       "    <tr>\n",
       "      <th>2</th>\n",
       "      <td>4A4A29A7C1B54278</td>\n",
       "      <td>classic_bike</td>\n",
       "      <td>2023-02-18 14:58:16</td>\n",
       "      <td>2023-02-18 15:06:15</td>\n",
       "      <td>Mama Johnson Field - 4 St &amp; Jackson St</td>\n",
       "      <td>HB404</td>\n",
       "      <td>12 St &amp; Sinatra Dr N</td>\n",
       "      <td>HB201</td>\n",
       "      <td>40.743140</td>\n",
       "      <td>-74.040041</td>\n",
       "      <td>40.750604</td>\n",
       "      <td>-74.024020</td>\n",
       "      <td>casual</td>\n",
       "    </tr>\n",
       "    <tr>\n",
       "      <th>3</th>\n",
       "      <td>BBF4E1D39D41D78C</td>\n",
       "      <td>classic_bike</td>\n",
       "      <td>2023-02-24 15:16:12</td>\n",
       "      <td>2023-02-24 15:24:17</td>\n",
       "      <td>Mama Johnson Field - 4 St &amp; Jackson St</td>\n",
       "      <td>HB404</td>\n",
       "      <td>Mama Johnson Field - 4 St &amp; Jackson St</td>\n",
       "      <td>HB404</td>\n",
       "      <td>40.743187</td>\n",
       "      <td>-74.040179</td>\n",
       "      <td>40.743140</td>\n",
       "      <td>-74.040041</td>\n",
       "      <td>member</td>\n",
       "    </tr>\n",
       "    <tr>\n",
       "      <th>4</th>\n",
       "      <td>3CECAA17C4ABBF30</td>\n",
       "      <td>classic_bike</td>\n",
       "      <td>2023-02-16 18:05:02</td>\n",
       "      <td>2023-02-16 18:05:04</td>\n",
       "      <td>Mama Johnson Field - 4 St &amp; Jackson St</td>\n",
       "      <td>HB404</td>\n",
       "      <td>Mama Johnson Field - 4 St &amp; Jackson St</td>\n",
       "      <td>HB404</td>\n",
       "      <td>40.743172</td>\n",
       "      <td>-74.040054</td>\n",
       "      <td>40.743140</td>\n",
       "      <td>-74.040041</td>\n",
       "      <td>member</td>\n",
       "    </tr>\n",
       "  </tbody>\n",
       "</table>\n",
       "</div>"
      ],
      "text/plain": [
       "            ride_id rideable_type           started_at             ended_at  \\\n",
       "0  557150C42CBD584B  classic_bike  2023-02-16 18:05:38  2023-02-16 18:13:47   \n",
       "1  9F1B2C0BCD476C66  classic_bike  2023-02-15 19:20:33  2023-02-15 19:27:06   \n",
       "2  4A4A29A7C1B54278  classic_bike  2023-02-18 14:58:16  2023-02-18 15:06:15   \n",
       "3  BBF4E1D39D41D78C  classic_bike  2023-02-24 15:16:12  2023-02-24 15:24:17   \n",
       "4  3CECAA17C4ABBF30  classic_bike  2023-02-16 18:05:02  2023-02-16 18:05:04   \n",
       "\n",
       "                       start_station_name start_station_id  \\\n",
       "0  Mama Johnson Field - 4 St & Jackson St            HB404   \n",
       "1  Mama Johnson Field - 4 St & Jackson St            HB404   \n",
       "2  Mama Johnson Field - 4 St & Jackson St            HB404   \n",
       "3  Mama Johnson Field - 4 St & Jackson St            HB404   \n",
       "4  Mama Johnson Field - 4 St & Jackson St            HB404   \n",
       "\n",
       "                               end_station_name end_station_id  start_lat  \\\n",
       "0  South Waterfront Walkway - Sinatra Dr & 1 St          HB103  40.743190   \n",
       "1  South Waterfront Walkway - Sinatra Dr & 1 St          HB103  40.743222   \n",
       "2                          12 St & Sinatra Dr N          HB201  40.743140   \n",
       "3        Mama Johnson Field - 4 St & Jackson St          HB404  40.743187   \n",
       "4        Mama Johnson Field - 4 St & Jackson St          HB404  40.743172   \n",
       "\n",
       "   start_lng    end_lat    end_lng member_casual  \n",
       "0 -74.040126  40.736982 -74.027781        member  \n",
       "1 -74.040081  40.736982 -74.027781        member  \n",
       "2 -74.040041  40.750604 -74.024020        casual  \n",
       "3 -74.040179  40.743140 -74.040041        member  \n",
       "4 -74.040054  40.743140 -74.040041        member  "
      ]
     },
     "execution_count": 51,
     "metadata": {},
     "output_type": "execute_result"
    }
   ],
   "source": [
    "#Preview data. Data is tidy.\n",
    "\n",
    "trips.head()"
   ]
  },
  {
   "cell_type": "code",
   "execution_count": 52,
   "id": "2861a207",
   "metadata": {},
   "outputs": [
    {
     "name": "stdout",
     "output_type": "stream",
     "text": [
      "981011\n"
     ]
    }
   ],
   "source": [
    "print(len(trips))"
   ]
  },
  {
   "cell_type": "code",
   "execution_count": 53,
   "id": "31060c6f",
   "metadata": {},
   "outputs": [],
   "source": [
    "trips = trips.drop_duplicates()"
   ]
  },
  {
   "cell_type": "code",
   "execution_count": 54,
   "id": "94e1b7fd",
   "metadata": {},
   "outputs": [
    {
     "name": "stdout",
     "output_type": "stream",
     "text": [
      "<class 'pandas.core.frame.DataFrame'>\n",
      "Int64Index: 981011 entries, 0 to 48584\n",
      "Data columns (total 13 columns):\n",
      " #   Column              Non-Null Count   Dtype  \n",
      "---  ------              --------------   -----  \n",
      " 0   ride_id             981011 non-null  object \n",
      " 1   rideable_type       981011 non-null  object \n",
      " 2   started_at          981011 non-null  object \n",
      " 3   ended_at            981011 non-null  object \n",
      " 4   start_station_name  980936 non-null  object \n",
      " 5   start_station_id    980936 non-null  object \n",
      " 6   end_station_name    977641 non-null  object \n",
      " 7   end_station_id      977641 non-null  object \n",
      " 8   start_lat           981011 non-null  float64\n",
      " 9   start_lng           981011 non-null  float64\n",
      " 10  end_lat             979712 non-null  float64\n",
      " 11  end_lng             979712 non-null  float64\n",
      " 12  member_casual       981011 non-null  object \n",
      "dtypes: float64(4), object(9)\n",
      "memory usage: 104.8+ MB\n"
     ]
    }
   ],
   "source": [
    "trips.info()"
   ]
  },
  {
   "cell_type": "code",
   "execution_count": null,
   "id": "2a630613",
   "metadata": {},
   "outputs": [],
   "source": []
  }
 ],
 "metadata": {
  "kernelspec": {
   "display_name": "Python 3 (ipykernel)",
   "language": "python",
   "name": "python3"
  },
  "language_info": {
   "codemirror_mode": {
    "name": "ipython",
    "version": 3
   },
   "file_extension": ".py",
   "mimetype": "text/x-python",
   "name": "python",
   "nbconvert_exporter": "python",
   "pygments_lexer": "ipython3",
   "version": "3.10.9"
  }
 },
 "nbformat": 4,
 "nbformat_minor": 5
}
