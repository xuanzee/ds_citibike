{
 "cells": [
  {
   "cell_type": "code",
   "execution_count": 1,
   "id": "9919efae",
   "metadata": {},
   "outputs": [],
   "source": [
    "from urllib.request import urlretrieve\n",
    "from pathlib import Path\n",
    "from zipfile import ZipFile"
   ]
  },
  {
   "cell_type": "markdown",
   "id": "a659b825",
   "metadata": {},
   "source": [
    "### Data Acquisition"
   ]
  },
  {
   "cell_type": "code",
   "execution_count": 2,
   "id": "52beaa27",
   "metadata": {},
   "outputs": [],
   "source": [
    "#Identify pattern of the url associated with each month's data file and code accordingly.\n",
    "url_front = \"https://s3.amazonaws.com/tripdata/JC-\"\n",
    "url_end = \"-citibike-tripdata.csv.zip\"\n",
    "\n",
    "filename_base = Path('/Users/xuan/Documents/Python/portfolio_projects/ds_citibike')"
   ]
  },
  {
   "cell_type": "code",
   "execution_count": 3,
   "id": "8fcc741b",
   "metadata": {},
   "outputs": [],
   "source": [
    "def get_year_month_files(list_of_year_month):\n",
    "    '''\n",
    "    Main function to retrieve files and store them locally.\n",
    "    '''\n",
    "    for year_month in list_of_year_month:\n",
    "        url = url_front + year_month + url_end\n",
    "        filename = year_month + '.zip'\n",
    "        filepath = filename_base / filename\n",
    "        path, headers = urlretrieve(url, filepath)"
   ]
  },
  {
   "cell_type": "code",
   "execution_count": 4,
   "id": "cdece0a3",
   "metadata": {},
   "outputs": [],
   "source": [
    "#Create a function that helps with generating the year-month list needed in the main function.\n",
    "def combine_year_month(year, list_of_months):\n",
    "    '''\n",
    "    Generates combined strings of year and month.\n",
    "    Parameters are a string value of 4-digit year and a list with 2-digit, string month numbers.\n",
    "    '''\n",
    "    list_str_year_month = []\n",
    "    for i in list_of_months:\n",
    "        str_year_month = year + i\n",
    "        list_str_year_month.append(str_year_month)\n",
    "    return list_str_year_month        "
   ]
  },
  {
   "cell_type": "code",
   "execution_count": 5,
   "id": "a0351076",
   "metadata": {},
   "outputs": [],
   "source": [
    "#Include the relevant months.\n",
    "list_of_2022_months = ['08', '09', '10', '11', '12']\n",
    "list_of_2023_months = ['01', '02', '03', '04', '05', '06', '07']"
   ]
  },
  {
   "cell_type": "code",
   "execution_count": 6,
   "id": "58fcd427",
   "metadata": {},
   "outputs": [
    {
     "name": "stdout",
     "output_type": "stream",
     "text": [
      "['202208', '202209', '202210', '202211', '202212', '202301', '202302', '202303', '202304', '202305', '202306', '202307']\n"
     ]
    }
   ],
   "source": [
    "#Call the function to get all year-month in one place.\n",
    "all_year_month = combine_year_month('2022', list_of_2022_months) + combine_year_month('2023', list_of_2023_months)\n",
    "print(all_year_month)"
   ]
  },
  {
   "cell_type": "code",
   "execution_count": 7,
   "id": "920c5be9",
   "metadata": {},
   "outputs": [],
   "source": [
    "#Call the main function to get all files.\n",
    "get_year_month_files(all_year_month)"
   ]
  },
  {
   "cell_type": "code",
   "execution_count": 8,
   "id": "707b1725",
   "metadata": {},
   "outputs": [],
   "source": [
    "#Unzip the files\n",
    "def unzip_files(list_of_year_month):\n",
    "    '''\n",
    "    Extract corresponding csv files for each year and month.\n",
    "    '''\n",
    "    for year_month in list_of_year_month:\n",
    "        filename = year_month + '.zip'\n",
    "        filepath = filename_base / filename\n",
    "        with ZipFile(filepath, 'r') as f:\n",
    "            list_of_names = f.namelist()\n",
    "            for name in list_of_names:\n",
    "                if name.endswith('.csv'):\n",
    "                    f.extract(name)"
   ]
  },
  {
   "cell_type": "code",
   "execution_count": 9,
   "id": "72248fd5",
   "metadata": {},
   "outputs": [],
   "source": [
    "unzip_files(all_year_month)"
   ]
  },
  {
   "cell_type": "code",
   "execution_count": null,
   "id": "2fc46405",
   "metadata": {},
   "outputs": [],
   "source": []
  }
 ],
 "metadata": {
  "kernelspec": {
   "display_name": "Python 3 (ipykernel)",
   "language": "python",
   "name": "python3"
  },
  "language_info": {
   "codemirror_mode": {
    "name": "ipython",
    "version": 3
   },
   "file_extension": ".py",
   "mimetype": "text/x-python",
   "name": "python",
   "nbconvert_exporter": "python",
   "pygments_lexer": "ipython3",
   "version": "3.10.9"
  }
 },
 "nbformat": 4,
 "nbformat_minor": 5
}
